{
 "cells": [
  {
   "cell_type": "code",
   "execution_count": 6,
   "metadata": {},
   "outputs": [],
   "source": [
    "import random\n",
    "random.seed(1234)\n",
    "\n",
    "n = 4\n",
    "\n",
    "def createRandomMatrix(n):\n",
    "    maxVal = 1000 # I don't want to get Java / C++ into trouble\n",
    "    matrix = []\n",
    "    for i in range(n):\n",
    "        matrix.append([random.randint(0,maxVal) for el in range(n)])\n",
    "    return matrix\n",
    "\n",
    "def saveMatrix(matrixA, matrixB, filename):\n",
    "    f = open(filename, 'w')\n",
    "    for i, matrix in enumerate([matrixA, matrixB]):\n",
    "        if i != 0:\n",
    "            f.write(\"\\n\")\n",
    "        for line in matrix:\n",
    "            f.write(\"\\t\".join(map(str, line)) + \"\\n\")\n",
    "matrixA = createRandomMatrix(n)\n",
    "matrixB = createRandomMatrix(n)\n",
    "saveMatrix(matrixA, matrixB, \"../data/%d.in\" % n)"
   ]
  },
  {
   "cell_type": "code",
   "execution_count": null,
   "metadata": {},
   "outputs": [],
   "source": []
  }
 ],
 "metadata": {
  "kernelspec": {
   "display_name": "Python 3",
   "language": "python",
   "name": "python3"
  },
  "language_info": {
   "codemirror_mode": {
    "name": "ipython",
    "version": 3
   },
   "file_extension": ".py",
   "mimetype": "text/x-python",
   "name": "python",
   "nbconvert_exporter": "python",
   "pygments_lexer": "ipython3",
   "version": "3.6.3"
  }
 },
 "nbformat": 4,
 "nbformat_minor": 2
}
