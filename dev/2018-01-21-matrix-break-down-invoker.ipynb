{
 "cells": [
  {
   "cell_type": "code",
   "execution_count": 117,
   "metadata": {},
   "outputs": [],
   "source": [
    "import json\n",
    "import boto3\n",
    "import multiprocessing as mp\n",
    "import numpy as np\n",
    "import pickle"
   ]
  },
  {
   "cell_type": "code",
   "execution_count": 184,
   "metadata": {},
   "outputs": [],
   "source": [
    "def matrix_read(filename):\n",
    "    lines = open(filename, 'r').read().splitlines()\n",
    "    A = []\n",
    "    B = []\n",
    "    matrix = A\n",
    "    for line in lines:\n",
    "        if line != \"\":            \n",
    "            matrix.append(line)\n",
    "        else:\n",
    "            matrix = B\n",
    "    A = '\\n'.join(A)\n",
    "    B = '\\n'.join(B)\n",
    "    return A, B\n",
    "\n",
    "\n",
    "def matrix_dump(M):\n",
    "    M_str = \"\"\n",
    "    for line in M:\n",
    "        M_str = M_str + (\"\\t\".join(map(str, line.tolist()[0])) + \"\\n\")\n",
    "    return M_str\n",
    "            \n",
    "\n",
    "def matrix_parse(filename):\n",
    "    lines = open(filename, 'r').read().splitlines()\n",
    "    A = []\n",
    "    B = []\n",
    "    matrix = A\n",
    "    for line in lines:\n",
    "        if line != \"\":\n",
    "            matrix.append(list(map(int, line.split(\"\\t\"))))\n",
    "        else:\n",
    "            matrix = B\n",
    "    return A, B\n",
    "\n",
    "\n",
    "def matrix_break_down(M):\n",
    "    M_upper = np.vsplit(M ,2)[0]\n",
    "    M_lower = np.vsplit(M, 2)[1]\n",
    "    \n",
    "    M11 = np.hsplit(M_upper, 2)[0]\n",
    "    M12 = np.hsplit(M_upper, 2)[1]\n",
    "    M21 = np.hsplit(M_lower, 2)[0]\n",
    "    M22 = np.hsplit(M_lower, 2)[1]\n",
    "    \n",
    "    return M11, M12, M21, M22\n",
    "    \n",
    "\n",
    "def remote_matrix_op(A, B):\n",
    "    A = matrix_dump(A)\n",
    "    B = matrix_dump(B)\n",
    "    payload = json.dumps({\"A\": A, \"B\": B})\n",
    "    r = client.invoke(\n",
    "        FunctionName='matrix_dot',\n",
    "        Payload=payload)['Payload']\n",
    "    return np.matrix(eval(json.loads(r.read().decode('utf8'))))"
   ]
  },
  {
   "cell_type": "code",
   "execution_count": 188,
   "metadata": {},
   "outputs": [
    {
     "name": "stdout",
     "output_type": "stream",
     "text": [
      "CPU times: user 32 ms, sys: 96 ms, total: 128 ms\n",
      "Wall time: 1.12 s\n"
     ]
    }
   ],
   "source": [
    "%%time\n",
    "\n",
    "client = boto3.client('lambda')\n",
    "\n",
    "A, B = matrix_parse('../data/250.in')\n",
    "A = np.matrix(A)\n",
    "B = np.matrix(B)\n",
    "\n",
    "A11, A12, A21, A22 = matrix_break_down(A)\n",
    "B11, B12, B21, B22 = matrix_break_down(B)\n",
    "\n",
    "with mp.Pool(8) as p:\n",
    "    r = p.starmap(remote_matrix_op, \n",
    "                    [(A11, B11), (A12, B21),\n",
    "                     (A11, B12), (A12, B22),\n",
    "                     (A21, B11), (A22, B21),\n",
    "                     (A21, B12), (A22, B22)])\n",
    "\n",
    "C0 = r[0] + r[1]\n",
    "C1 = r[2] + r[3]  \n",
    "C2 = r[4] + r[5]          \n",
    "C3 = r[6] + r[7]\n",
    "\n",
    "C_upper = np.concatenate((C0, C1), axis=1)\n",
    "C_lower = np.concatenate((C2, C3), axis=1)\n",
    "C = np.concatenate((C_upper, C_lower), axis=0)"
   ]
  },
  {
   "cell_type": "code",
   "execution_count": 187,
   "metadata": {},
   "outputs": [
    {
     "data": {
      "text/plain": [
       "matrix([[1155471., 1307205.,  486386.,  604980.],\n",
       "        [1083666.,  818081.,  554251.,  800302.],\n",
       "        [1190768., 1400993.,  544053.,  690766.],\n",
       "        [ 664342.,  890974.,  228973.,  334915.]])"
      ]
     },
     "execution_count": 187,
     "metadata": {},
     "output_type": "execute_result"
    }
   ],
   "source": [
    "C"
   ]
  }
 ],
 "metadata": {
  "kernelspec": {
   "display_name": "Python 3",
   "language": "python",
   "name": "python3"
  },
  "language_info": {
   "codemirror_mode": {
    "name": "ipython",
    "version": 3
   },
   "file_extension": ".py",
   "mimetype": "text/x-python",
   "name": "python",
   "nbconvert_exporter": "python",
   "pygments_lexer": "ipython3",
   "version": "3.6.3"
  }
 },
 "nbformat": 4,
 "nbformat_minor": 2
}
