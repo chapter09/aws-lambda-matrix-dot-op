{
 "cells": [
  {
   "cell_type": "markdown",
   "metadata": {},
   "source": [
    "### AWS Lambda\n",
    "This script demos how to pass two matrix to AWS Lambda and retrieves the dot product of the matrixs. "
   ]
  },
  {
   "cell_type": "code",
   "execution_count": 153,
   "metadata": {
    "scrolled": false
   },
   "outputs": [
    {
     "name": "stdout",
     "output_type": "stream",
     "text": [
      "CPU times: user 24 ms, sys: 0 ns, total: 24 ms\n",
      "Wall time: 1.2 s\n"
     ]
    }
   ],
   "source": [
    "%%time\n",
    "import json\n",
    "import boto3\n",
    "\n",
    "def matrix_read(filename):\n",
    "    lines = open(filename, 'r').read().splitlines()\n",
    "    A = []\n",
    "    B = []\n",
    "    matrix = A\n",
    "    for line in lines:\n",
    "        if line != \"\":            \n",
    "            matrix.append(line)\n",
    "        else:\n",
    "            matrix = B\n",
    "    A = '\\n'.join(A)\n",
    "    B = '\\n'.join(B)\n",
    "    return A, B\n",
    "\n",
    "\n",
    "A, B = matrix_read('../data/250.in')\n",
    "\n",
    "client = boto3.client('lambda')\n",
    "payload = json.dumps({\"A\": A, \"B\": B})\n",
    "\n",
    "r = client.invoke(\n",
    "    FunctionName='matrix_dot',\n",
    "    Payload=payload)['Payload']\n",
    "\n",
    "result = json.loads(r.read())"
   ]
  },
  {
   "cell_type": "markdown",
   "metadata": {},
   "source": [
    "### Local NumPy"
   ]
  },
  {
   "cell_type": "code",
   "execution_count": 154,
   "metadata": {
    "scrolled": true
   },
   "outputs": [
    {
     "name": "stdout",
     "output_type": "stream",
     "text": [
      "CPU times: user 56 ms, sys: 0 ns, total: 56 ms\n",
      "Wall time: 57.2 ms\n"
     ]
    }
   ],
   "source": [
    "%%time\n",
    "import numpy\n",
    "\n",
    "def read(filename):\n",
    "    lines = open(filename, 'r').read().splitlines()\n",
    "    A = []\n",
    "    B = []\n",
    "    matrix = A\n",
    "    for line in lines:\n",
    "        if line != \"\":\n",
    "            matrix.append(list(map(int, line.split(\"\\t\"))))\n",
    "        else:\n",
    "            matrix = B\n",
    "    return A, B\n",
    "\n",
    "def printMatrix(matrix):\n",
    "    matrix = numpy.array(matrix)\n",
    "    for line in matrix:\n",
    "        print(\"\\t\".join(map(str,line)))\n",
    "\n",
    "\n",
    "A, B = read('../data/250.in')\n",
    "A = numpy.matrix(A)\n",
    "B = numpy.matrix(B)\n",
    "C = A * B"
   ]
  },
  {
   "cell_type": "code",
   "execution_count": 152,
   "metadata": {},
   "outputs": [
    {
     "data": {
      "text/plain": [
       "matrix([[1155471, 1307205,  486386,  604980],\n",
       "        [1083666,  818081,  554251,  800302],\n",
       "        [1190768, 1400993,  544053,  690766],\n",
       "        [ 664342,  890974,  228973,  334915]])"
      ]
     },
     "execution_count": 152,
     "metadata": {},
     "output_type": "execute_result"
    }
   ],
   "source": [
    "C"
   ]
  }
 ],
 "metadata": {
  "kernelspec": {
   "display_name": "Python 3",
   "language": "python",
   "name": "python3"
  },
  "language_info": {
   "codemirror_mode": {
    "name": "ipython",
    "version": 3
   },
   "file_extension": ".py",
   "mimetype": "text/x-python",
   "name": "python",
   "nbconvert_exporter": "python",
   "pygments_lexer": "ipython3",
   "version": "3.6.3"
  }
 },
 "nbformat": 4,
 "nbformat_minor": 2
}
